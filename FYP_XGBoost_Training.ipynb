{
  "cells": [
    {
      "cell_type": "code",
      "execution_count": null,
      "metadata": {
        "id": "27Z-3pKXYqvo"
      },
      "outputs": [],
      "source": [
        "import os\n",
        "import gc\n",
        "import sklearn\n",
        "import numpy as np\n",
        "import pandas as pd\n",
        "import seaborn as sns\n",
        "\n",
        "from tqdm.notebook import tqdm\n",
        "from matplotlib import pyplot as plt\n",
        "from sklearn.metrics import roc_auc_score as ras\n",
        "from sklearn.model_selection import StratifiedKFold\n",
        "from sklearn.model_selection import train_test_split\n",
        "from sklearn.model_selection import GridSearchCV, RandomizedSearchCV\n",
        "\n",
        "import lightgbm as lgb\n",
        "import xgboost as xgb\n",
        "\n",
        "from xgboost import XGBClassifier"
      ]
    },
    {
      "cell_type": "code",
      "execution_count": null,
      "metadata": {
        "id": "7FCiX3ryYwtf"
      },
      "outputs": [],
      "source": [
        "PATH = './drive/MyDrive/SisFall_Preprocessed/'\n",
        "TEST = False"
      ]
    },
    {
      "cell_type": "code",
      "execution_count": null,
      "metadata": {
        "colab": {
          "base_uri": "https://localhost:8080/"
        },
        "id": "GQwVQ_HTfnWh",
        "outputId": "4606e8bf-595f-4cb7-951b-a71cd76d5145"
      },
      "outputs": [
        {
          "name": "stdout",
          "output_type": "stream",
          "text": [
            "Mounted at /content/drive\n"
          ]
        }
      ],
      "source": [
        "from google.colab import drive\n",
        "drive.mount('/content/drive')"
      ]
    },
    {
      "cell_type": "code",
      "execution_count": null,
      "metadata": {
        "colab": {
          "base_uri": "https://localhost:8080/"
        },
        "id": "Q9YNIQBkYwq1",
        "outputId": "f55c06ed-c69d-4071-e77a-662cc580c34d"
      },
      "outputs": [
        {
          "name": "stdout",
          "output_type": "stream",
          "text": [
            "Data Shape : (4447, 29)\n"
          ]
        }
      ],
      "source": [
        "users = pd.read_csv(os.path.join(PATH, 'user_details.csv'))\n",
        "feats = pd.read_csv(os.path.join(PATH, 'user_compressed_feats.csv'))\n",
        "\n",
        "sub = pd.DataFrame(feats[['user_test', 'target']].values, columns=['user_test','target'])\n",
        "sub['target'] = sub['target'].astype(int)\n",
        "sub['prediction'] = 0\n",
        "\n",
        "print(f'Data Shape : {feats.shape}')"
      ]
    },
    {
      "cell_type": "code",
      "execution_count": null,
      "metadata": {
        "id": "8gPt_QzLYwoD"
      },
      "outputs": [],
      "source": [
        "feats['user_id'] = feats['user_test'].apply(lambda x:x.split('_')[1])\n",
        "feats = feats.merge(users, how='left', on='user_id')\n",
        "feats['gender'] = feats['gender'].map({'M':0,'F':1})\n",
        "\n",
        "use_cols = [x for x in feats.columns if x not in ['user_test','user_id','target']]"
      ]
    },
    {
      "cell_type": "code",
      "execution_count": null,
      "metadata": {
        "id": "hZijZUpDYwlO"
      },
      "outputs": [],
      "source": [
        "init_params = {'colsample_bytree': 0.2,\n",
        "              'eval_metric': 'auc',\n",
        "              'learning_rate': 0.25,\n",
        "              'max_depth': 7,\n",
        "              'n_estimators': 50,\n",
        "              'objective': 'reg:logistic',\n",
        "              'tree_method':\"gpu_hist\",\n",
        "              'eval_metric': ['auc'],}\n",
        "\n",
        "grid_params = {\n",
        "            'n_estimators': [100, 150, 200],\n",
        "            'learning_rate': [0.01, 0.025, 0.05],\n",
        "            'max_depth': range(7,11),\n",
        "            'colsample_bytree': [i/10.0 for i in range(1, 3)],\n",
        "            'eval_metric': ['auc'],\n",
        "            'objective':['reg:logistic'],\n",
        "            'tree_method':[\"gpu_hist\"]\n",
        "          }"
      ]
    },
    {
      "cell_type": "code",
      "execution_count": null,
      "metadata": {
        "colab": {
          "background_save": true
        },
        "id": "4uzL4h0GYwio"
      },
      "outputs": [],
      "source": [
        "N_SPLITS = 5\n",
        "folds = StratifiedKFold(n_splits=N_SPLITS)\n",
        "\n",
        "model = xgb.XGBClassifier(**init_params)\n",
        "grid = GridSearchCV(estimator=model, param_grid=grid_params,\n",
        "                    scoring='roc_auc', n_jobs=-1,\n",
        "                    cv=folds, verbose=3)\n",
        "grid.fit(feats[use_cols], feats['target'])"
      ]
    },
    {
      "cell_type": "code",
      "execution_count": null,
      "metadata": {
        "id": "UCI0VME8Ywf4"
      },
      "outputs": [],
      "source": [
        "best_params = {k: grid.best_params_.get(k, v) for k, v in init_params.items()}\n",
        "best_params['verbosity'] = 3\n",
        "best_params['objective'] = 'reg:logistic'\n",
        "best_params['tree_method'] = \"gpu_hist\"\n",
        "best_params"
      ]
    },
    {
      "cell_type": "code",
      "execution_count": null,
      "metadata": {
        "colab": {
          "background_save": true
        },
        "id": "UwtVBulU0-ir"
      },
      "outputs": [],
      "source": [
        "train_df, test_df, train_target, test_target = train_test_split(feats[use_cols],\n",
        "                                                                feats['target'],\n",
        "                                                                test_size=0.1,\n",
        "                                                                stratify=feats['target'])\n",
        "lgb_train_data = xgb.DMatrix(train_df, label=train_target)\n",
        "lgb_test_data = xgb.DMatrix(test_df, label=test_target)\n",
        "watchlist = [(xgb_train, 'train'), (xgb_val, 'valid')]\n",
        "\n",
        "model = xgb.XGBClassifier(**best_params)\n",
        "model.fit(train_df, train_target)"
      ]
    },
    {
      "cell_type": "code",
      "execution_count": null,
      "metadata": {
        "colab": {
          "base_uri": "https://localhost:8080/"
        },
        "id": "YCd1uwfQ65qV",
        "outputId": "76d48d11-d8af-4d18-83ad-ec6f04a3d8a8"
      },
      "outputs": [
        {
          "data": {
            "text/plain": [
              "array([0.01139338, 0.01048101, 0.01457033, 0.0371764 , 0.14890754,\n",
              "       0.09507807, 0.024088  , 0.01335162, 0.0219824 , 0.01017205,\n",
              "       0.02999194, 0.01597654, 0.01167662, 0.01275533, 0.02510568,\n",
              "       0.04281436, 0.02601257, 0.01079643, 0.03223642, 0.00999278,\n",
              "       0.01038349, 0.04496682, 0.14574675, 0.08886883, 0.02038886,\n",
              "       0.01478647, 0.03793853, 0.02338902, 0.00317183, 0.00309162,\n",
              "       0.00270833], dtype=float32)"
            ]
          },
          "execution_count": 53,
          "metadata": {},
          "output_type": "execute_result"
        }
      ],
      "source": [
        "model.feature_importances_"
      ]
    },
    {
      "cell_type": "code",
      "execution_count": null,
      "metadata": {
        "colab": {
          "background_save": true
        },
        "id": "urEOAs8W5xlq"
      },
      "outputs": [],
      "source": [
        "feat_imp = [(model.feature_importances_[i], feats[use_cols].columns[i])\n",
        "            for i in range(len(use_cols))]\n",
        "feat_imp = sorted(feat_imp, key=lambda x:x[0], reverse=True)\n",
        "feat_imp"
      ]
    },
    {
      "cell_type": "code",
      "execution_count": null,
      "metadata": {
        "colab": {
          "background_save": true
        },
        "id": "I4u74Hsw1AG3"
      },
      "outputs": [],
      "source": [
        "kfeat = 3\n",
        "use_feat_imp = [fi for fi in feat_imp][:kfeat]\n",
        "use_feat_imp = [fi[-1] for fi in feat_imp][:kfeat]\n",
        "print(f'Features Using : {use_feat_imp}')"
      ]
    },
    {
      "cell_type": "code",
      "execution_count": null,
      "metadata": {
        "id": "kHVtPXlR_4jf"
      },
      "outputs": [],
      "source": [
        "model.get_booster().best_iteration"
      ]
    },
    {
      "cell_type": "code",
      "execution_count": null,
      "metadata": {
        "id": "_G_X6X5M1Gh3"
      },
      "outputs": [],
      "source": [
        "for fold, (trn_idx, val_idx) in tqdm(enumerate(folds.split(feats, feats['target'])),total=N_SPLITS):\n",
        "  train_df, test_df = feats[use_feat_imp].iloc[trn_idx], feats[use_feat_imp].iloc[val_idx]\n",
        "  train_target, test_target = feats['target'].iloc[trn_idx], feats['target'].iloc[val_idx]\n",
        "  \n",
        "  xgb_train = xgb.DMatrix(train_df, label = train_target)\n",
        "  xgb_val = xgb.DMatrix(test_df, label = test_target)\n",
        "  watchlist = [(xgb_train, 'train'), (xgb_val, 'valid')]\n",
        "\n",
        "  model = xgb.train(best_params,xgb_train,\n",
        "                    10000,watchlist,early_stopping_rounds=500,\n",
        "                    maximize=True,\n",
        "                    verbose_eval=100)\n",
        "  \n",
        "  val_preds = model.predict(xgb_val, ntree_limit=model.best_ntree_limit)\n",
        "  sub.loc[sub.index.isin(val_idx), 'prediction'] += val_preds/N_SPLITS\n",
        "  print(f'fold {fold}, Validation Predicition ROC-AUC : {round(ras(test_target, val_preds))}')\n",
        "  print('==============================================')\n",
        "\n",
        "oof_score = ras(sub['target'], sub['prediction'])\n",
        "print(f'OOF ROC-AUC Score : {(oof_score)}')"
      ]
    },
    {
      "cell_type": "code",
      "execution_count": null,
      "metadata": {
        "id": "DbCbtCTaYwa7"
      },
      "outputs": [],
      "source": [
        "sub.to_csv(os.path.join(PATH, 'sub_xgb.csv'), index=False)"
      ]
    }
  ],
  "metadata": {
    "accelerator": "GPU",
    "colab": {
      "name": "FYP_XGBoost_Training.ipynb",
      "provenance": []
    },
    "kernelspec": {
      "display_name": "Python 3",
      "name": "python3"
    },
    "language_info": {
      "name": "python"
    }
  },
  "nbformat": 4,
  "nbformat_minor": 0
}